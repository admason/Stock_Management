{
 "cells": [
  {
   "cell_type": "code",
   "execution_count": 15,
   "metadata": {},
   "outputs": [
    {
     "name": "stdout",
     "output_type": "stream",
     "text": [
      "Quantity: 100\n",
      "Source: aus\n",
      "extra 7 days\n",
      "100  copies due on  2021-07-28 shipped from aus\n"
     ]
    }
   ],
   "source": [
    "# Incorporate a list\n",
    "# Nearest wednesday\n",
    "\n",
    "import datetime as dt\n",
    "from datetime import date, timedelta\n",
    "\n",
    "days =[14,42,70,100]\n",
    "\n",
    "q = int(input(\"Quantity: \"))\n",
    "s = str(input(\"Source: \"))\n",
    "\n",
    "dt = datetime.datetime.now()\n",
    "\n",
    "daynum = int(dt.strftime(\"%w\"))\n",
    "#print(daynum)\n",
    "type(daynum)\n",
    "extra_days = 7-daynum%3\n",
    "print(\"extra\",extra_days, \"days\")\n",
    "\n",
    "def eta(q,s):\n",
    "    if s == \"UK\" or s==\"uk\":\n",
    "        n = days[0]+extra_days\n",
    "    elif s == \"INDIA\" or s==\"india\":\n",
    "        n = days[1]+extra_days\n",
    "    elif s == \"AUS\" or \"aus\":\n",
    "        n = days[2]+extra_days\n",
    "    else:\n",
    "        n = days[3]+extra_days\n",
    "    eta = (date.today()+timedelta(days=n)).isoformat()\n",
    "    #eta = int((date.today()+timedelta(days=n))+int(extra_days)).isoformat()\n",
    "    return eta\n",
    "\n",
    "print(q,\" copies due on \",eta(q,s), \"shipped from\",s)"
   ]
  },
  {
   "cell_type": "code",
   "execution_count": 5,
   "metadata": {},
   "outputs": [
    {
     "ename": "NameError",
     "evalue": "name 'dt' is not defined",
     "output_type": "error",
     "traceback": [
      "\u001b[1;31m---------------------------------------------------------------------------\u001b[0m",
      "\u001b[1;31mNameError\u001b[0m                                 Traceback (most recent call last)",
      "\u001b[1;32m<ipython-input-5-fb643018432f>\u001b[0m in \u001b[0;36m<module>\u001b[1;34m\u001b[0m\n\u001b[1;32m----> 1\u001b[1;33m \u001b[0mdaynum\u001b[0m \u001b[1;33m=\u001b[0m \u001b[0mint\u001b[0m\u001b[1;33m(\u001b[0m\u001b[0mdt\u001b[0m\u001b[1;33m.\u001b[0m\u001b[0mstrftime\u001b[0m\u001b[1;33m(\u001b[0m\u001b[1;34m\"%w\"\u001b[0m\u001b[1;33m)\u001b[0m\u001b[1;33m)\u001b[0m\u001b[1;33m\u001b[0m\u001b[1;33m\u001b[0m\u001b[0m\n\u001b[0m",
      "\u001b[1;31mNameError\u001b[0m: name 'dt' is not defined"
     ]
    }
   ],
   "source": [
    "daynum = int(dt.strftime(\"%w\"))"
   ]
  },
  {
   "cell_type": "code",
   "execution_count": null,
   "metadata": {},
   "outputs": [],
   "source": []
  }
 ],
 "metadata": {
  "kernelspec": {
   "display_name": "Python 3",
   "language": "python",
   "name": "python3"
  },
  "language_info": {
   "codemirror_mode": {
    "name": "ipython",
    "version": 3
   },
   "file_extension": ".py",
   "mimetype": "text/x-python",
   "name": "python",
   "nbconvert_exporter": "python",
   "pygments_lexer": "ipython3",
   "version": "3.7.1"
  }
 },
 "nbformat": 4,
 "nbformat_minor": 2
}
